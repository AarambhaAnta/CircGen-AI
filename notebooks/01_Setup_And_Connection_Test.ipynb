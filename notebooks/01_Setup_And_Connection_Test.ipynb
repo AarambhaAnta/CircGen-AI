{
  "nbformat": 4,
  "nbformat_minor": 0,
  "metadata": {
    "colab": {
      "provenance": [],
      "authorship_tag": "ABX9TyP1n/5+92LI8Hpv5D+a6hEt",
      "include_colab_link": true
    },
    "kernelspec": {
      "name": "python3",
      "display_name": "Python 3"
    },
    "language_info": {
      "name": "python"
    }
  },
  "cells": [
    {
      "cell_type": "markdown",
      "metadata": {
        "id": "view-in-github",
        "colab_type": "text"
      },
      "source": [
        "<a href=\"https://colab.research.google.com/github/AarambhaAnta/CircGen-AI/blob/master/notebooks/01_Setup_And_Connection_Test.ipynb\" target=\"_parent\"><img src=\"https://colab.research.google.com/assets/colab-badge.svg\" alt=\"Open In Colab\"/></a>"
      ]
    },
    {
      "cell_type": "markdown",
      "source": [
        "# CircGen-AI: Notebook 01 - Setup and Connection Test"
      ],
      "metadata": {
        "id": "S-sC3HxBft_Q"
      }
    },
    {
      "cell_type": "markdown",
      "source": [
        "## SECURELY AUTHENTICATE WITH HUGGING FACE"
      ],
      "metadata": {
        "id": "Jme3cmwChL6I"
      }
    },
    {
      "cell_type": "code",
      "source": [
        "from google.colab import userdata\n",
        "import os"
      ],
      "metadata": {
        "id": "3EL7CJ-if4fQ"
      },
      "execution_count": null,
      "outputs": []
    },
    {
      "cell_type": "code",
      "source": [
        "# Retrive the token from Colab secrets and set it as an environment variable\n",
        "\n",
        "hf_token = userdata.get('HF_TOKEN')\n",
        "os.environ['HF_TOKEN'] = hf_token\n",
        "\n",
        "print(\"✅ Hugging Face token has been retrieved and set as an environment variable.\")"
      ],
      "metadata": {
        "id": "Ix-bdVMHgApq"
      },
      "execution_count": null,
      "outputs": []
    },
    {
      "cell_type": "markdown",
      "source": [
        "## CLONE YOUR GITHUB REPOSITORY"
      ],
      "metadata": {
        "id": "Z6V4IAlMg0bA"
      }
    },
    {
      "cell_type": "code",
      "source": [
        "# Remove the default sample_data directory to keep the file clean\n",
        "\n",
        "!rm -rf sample_data"
      ],
      "metadata": {
        "id": "-jgUDTNXhKbH"
      },
      "execution_count": null,
      "outputs": []
    },
    {
      "cell_type": "code",
      "source": [
        "# Clone the repository\n",
        "\n",
        "!git clone https://github.com/AarambhaAnta/CircGen-AI.git\n",
        "\n",
        "print(\"\\n✅ GitHub repository colning process initiated.\")"
      ],
      "metadata": {
        "id": "NpEMY-j1hoxE"
      },
      "execution_count": null,
      "outputs": []
    },
    {
      "cell_type": "markdown",
      "source": [
        "## VERIFY THE CONNECTION"
      ],
      "metadata": {
        "id": "mlMfI_Y-h3ot"
      }
    },
    {
      "cell_type": "code",
      "source": [
        "# Verify GitHub Clone\n",
        "\n",
        "print(\"\\n--- Verifying GitHub Connection ---\")\n",
        "print(\"Listing contents of the cloned repository:\")\n",
        "\n",
        "!ls -l CircGen-AI\n",
        "\n",
        "print(\"\\n✅ GitHub connection verified.\")"
      ],
      "metadata": {
        "id": "DYEGX9lukl3H"
      },
      "execution_count": null,
      "outputs": []
    },
    {
      "cell_type": "code",
      "source": [
        "# Verify Hugging Face Login\n",
        "print(\"\\n--- Verifying Hugging Face Connection ---\")\n",
        "print(\"Checking Hugging Face login status...\")\n",
        "\n",
        "!hf auth whoami\n",
        "\n",
        "print(\"\\n✅ Hugging Face connection verified.\")"
      ],
      "metadata": {
        "id": "vVKsfGOUlF7x"
      },
      "execution_count": null,
      "outputs": []
    },
    {
      "cell_type": "code",
      "source": [
        "# Final Test - Load a Protected Model's Tokenizer\n",
        "\n",
        "print(\"\\n--- Final Verification: Loading a Gated Model Tokenizer ---\")\n",
        "\n",
        "!pip install transformers"
      ],
      "metadata": {
        "id": "leqcgXI8lXx8"
      },
      "execution_count": null,
      "outputs": []
    },
    {
      "cell_type": "code",
      "source": [
        "from transformers import AutoTokenizer\n",
        "\n",
        "model_id = \"meta-llama/CodeLlama-7b-instruct-hf\"\n",
        "\n",
        "try:\n",
        "  tokenizer = AutoTokenizer.from_pretrained(model_id)\n",
        "  print(f\"\\n✅ SUCCESS! Successfully loaded the tokenizer for '{model_id}'.\")\n",
        "  print(\"Your GitHub and Hugging Face connections are working correctly!\")\n",
        "  print(\"\\nTokenizer test output:\")\n",
        "  print(tokenizer)\n",
        "except Exception as e:\n",
        "  print(f\"\\n❌ FAILED: Could not load the tokenizer.\")\n",
        "  print(\"Please check the following:\")\n",
        "  print(\"1. Is your HF_TOKEN secret correct and does it have 'write' permissions?\")\n",
        "  print(\"2. Have you accepted the terms of use on the Code Llama model page on Hugging Face?\")\n",
        "  print(f\"Error details: {e}\")"
      ],
      "metadata": {
        "id": "jTHWjbogmc1U"
      },
      "execution_count": null,
      "outputs": []
    }
  ]
}